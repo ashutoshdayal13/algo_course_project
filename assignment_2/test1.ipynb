{
 "cells": [
  {
   "cell_type": "code",
   "execution_count": 22,
   "id": "f5348a9d-cf49-43fa-a335-45335646cc1e",
   "metadata": {},
   "outputs": [],
   "source": [
    "import numpy as np\n",
    "import matplotlib.pyplot as plt\n",
    "import cv2\n",
    "%matplotlib inline"
   ]
  },
  {
   "cell_type": "code",
   "execution_count": 23,
   "id": "b91ff17e-589f-43ac-a001-6b78ec43cdcd",
   "metadata": {},
   "outputs": [],
   "source": [
    "rows = 150\n",
    "cols = 150\n",
    "\n",
    "random_matrix = np.random.randint(256, size=(rows, cols))\n",
    "\n",
    "p1 = np.zeros((rows, cols))\n",
    "p2 = np.zeros((rows, cols))\n",
    "\n",
    "p1[:,:] = random_matrix\n",
    "p2[:,:] = random_matrix\n",
    "\n",
    "\n",
    "pattern = np.random.randint(256, size=(rows, cols))\n",
    "pattern2 = np.random.randint(256, size=(rows, cols))\n",
    "\n",
    "offset=4\n",
    "offset2=2\n",
    "\n",
    "p1[rows//8:rows - rows//8, cols//8:cols - cols//8] = pattern2[rows//8:rows - rows//8, cols//8:cols - cols//8]\n",
    "p2[rows//8:rows - rows//8, (cols//8)-offset2: cols-(cols//8)-offset2] = pattern2[rows//8:rows - rows//8, cols//8:cols - cols//8]\n",
    "\n",
    "for i in range(rows):\n",
    "    for j in range(cols):\n",
    "\n",
    "        if ((rows//6)**2)<((i-rows//2)**2 + (j-cols//2)**2) <((rows//3)**2):\n",
    "            p1[i,j] = pattern[i,j]\n",
    "            if j-offset>=0:\n",
    "                p2[i,j-offset] = pattern[i,j]"
   ]
  },
  {
   "cell_type": "code",
   "execution_count": 24,
   "id": "4e83f22d-2124-428b-ac32-1de9218561d9",
   "metadata": {},
   "outputs": [],
   "source": [
    "mat1,mat2=p1,p2"
   ]
  },
  {
   "cell_type": "code",
   "execution_count": 25,
   "id": "648d834b-87f7-4200-8cdf-4b748e82c06a",
   "metadata": {},
   "outputs": [],
   "source": [
    "N, M = mat1.shape\n",
    "\n",
    "# Memoization (DP) table for storing the computed MSE values\n",
    "mse_dp = np.full((N, M, N, M), -1)  # Initialize with -1 to indicate uncomputed values\n",
    "\n",
    "def calc_mse(mat1, mat2, i, j, a, b):\n",
    "    # If we've already computed this MSE, return it from DP table\n",
    "    if mse_dp[i, j, a, b] != -1:\n",
    "        return mse_dp[i, j, a, b]\n",
    "    \n",
    "    # Calculate the MSE for the (i,j) and (a,b) cells\n",
    "    mse = (mat1[i, j] - mat2[a, b]) ** 2\n",
    "    for (mx, my) in [(1, -1), (1, 1), (-1, 1), (-1, -1), (0, 1), (1, 0), (0, -1), (-1, 0)]:\n",
    "        ni, nj = i + mx, j + my\n",
    "        na, nb = a + mx, b + my\n",
    "        if 0 <= ni < N and 0 <= nj < M and 0 <= na < N and 0 <= nb < M:\n",
    "            mse += (mat1[ni, nj] - mat2[na, nb]) ** 2\n",
    "    \n",
    "    # Store the result in DP table\n",
    "    mse_dp[i, j, a, b] = mse\n",
    "    return mse\n",
    "\n",
    "# DP array for storing intermediate results of `dd`\n",
    "dd = np.zeros((N, M))\n",
    "\n",
    "for i in range(N):\n",
    "    for j in range(M):\n",
    "        # Start from the previous k if we are not in the first column\n",
    "        k = j if j == 0 else int(dd[i, j - 1] + j)\n",
    "        \n",
    "        # Continue incrementing k until we find a position where mse is 0 or we reach the end\n",
    "        while k < M and calc_mse(mat1, mat2, i, k, i, j) != 0:\n",
    "            k += 1\n",
    "        \n",
    "        # If k is within bounds, set the value in dd\n",
    "        if k < M:\n",
    "            dd[i, j] = k - j\n",
    "        else:\n",
    "            # If no match found, assign a default large value (or leave as 0, if preferred)\n",
    "            dd[i, j] = 0\n"
   ]
  },
  {
   "cell_type": "code",
   "execution_count": 26,
   "id": "8b5d3b02-320d-4911-b1f0-337a308ce550",
   "metadata": {},
   "outputs": [
    {
     "data": {
      "text/plain": [
       "<matplotlib.image.AxesImage at 0x2a1a7b3c950>"
      ]
     },
     "execution_count": 26,
     "metadata": {},
     "output_type": "execute_result"
    },
    {
     "data": {
      "image/png": "[encoded data removed]",
      "text/plain": [
       "<Figure size 640x480 with 1 Axes>"
      ]
     },
     "metadata": {},
     "output_type": "display_data"
    }
   ],
   "source": [
    "plt.axis('off')\n",
    "plt.imshow(dd,cmap='gray')"
   ]
  },
  {
   "cell_type": "code",
   "execution_count": null,
   "id": "eaa714be-ef13-463e-a612-5fa3771c5cdd",
   "metadata": {},
   "outputs": [],
   "source": []
  }
 ],
 "metadata": {
  "kernelspec": {
   "display_name": "Python 3 (ipykernel)",
   "language": "python",
   "name": "python3"
  },
  "language_info": {
   "codemirror_mode": {
    "name": "ipython",
    "version": 3
   },
   "file_extension": ".py",
   "mimetype": "text/x-python",
   "name": "python",
   "nbconvert_exporter": "python",
   "pygments_lexer": "ipython3",
   "version": "3.11.4"
  }
 },
 "nbformat": 4,
 "nbformat_minor": 5
}
